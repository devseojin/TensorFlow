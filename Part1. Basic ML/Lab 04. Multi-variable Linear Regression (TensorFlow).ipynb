{
 "cells": [
  {
   "cell_type": "code",
   "execution_count": 1,
   "metadata": {},
   "outputs": [],
   "source": [
    "import tensorflow as tf\n",
    "import numpy as np"
   ]
  },
  {
   "attachments": {
    "image.png": {
     "image/png": "[encoded data removed]"
    }
   },
   "cell_type": "markdown",
   "metadata": {},
   "source": [
    "## Multi-variable linear regression\n",
    "    - 다변량 선형 회귀함수\n",
    "\n",
    "* Matrix multiplication 이용 (dot product: 내적)\n",
    "\n",
    "\n",
    "![image.png](attachment:image.png)\n",
    "     - 이론과 표현방법에서 차이가 있음 (내적 계산법 때문)"
   ]
  },
  {
   "cell_type": "code",
   "execution_count": null,
   "metadata": {},
   "outputs": [],
   "source": []
  },
  {
   "cell_type": "markdown",
   "metadata": {},
   "source": [
    "### Example : 2 variables with Matrix"
   ]
  },
  {
   "cell_type": "code",
   "execution_count": 13,
   "metadata": {},
   "outputs": [
    {
     "name": "stdout",
     "output_type": "stream",
     "text": [
      "     i, cost.numpy(), W.numpy()[0][0], W.numpy()[0][1], b.numpy()[0]\n",
      "\n",
      "    0 |      1.871500 |        0.5008 |        0.7113 |      0.109362\n",
      "   50 |      0.444546 |        0.7327 |        0.7912 |      0.190253\n",
      "  100 |      0.117729 |        0.8401 |        0.8392 |      0.228519\n",
      "  150 |      0.040049 |        0.8899 |        0.8687 |      0.245941\n",
      "  200 |      0.020316 |        0.9130 |        0.8873 |      0.253042\n",
      "  250 |      0.014689 |        0.9239 |        0.8993 |      0.254958\n",
      "  300 |      0.012747 |        0.9293 |        0.9073 |      0.254228\n",
      "  350 |      0.011867 |        0.9321 |        0.9129 |      0.252129\n",
      "  400 |      0.011331 |        0.9339 |        0.9168 |      0.249316\n",
      "  450 |      0.010921 |        0.9351 |        0.9198 |      0.246131\n",
      "  500 |      0.010565 |        0.9362 |        0.9220 |      0.242758\n",
      "  550 |      0.010236 |        0.9371 |        0.9239 |      0.239298\n",
      "  600 |      0.009924 |        0.9381 |        0.9255 |      0.235808\n",
      "  650 |      0.009624 |        0.9390 |        0.9269 |      0.232321\n",
      "  700 |      0.009334 |        0.9399 |        0.9282 |      0.228856\n",
      "  750 |      0.009053 |        0.9408 |        0.9294 |      0.225424\n",
      "  800 |      0.008781 |        0.9416 |        0.9306 |      0.222033\n",
      "  850 |      0.008517 |        0.9425 |        0.9317 |      0.218684\n",
      "  900 |      0.008261 |        0.9434 |        0.9328 |      0.215382\n",
      "  950 |      0.008013 |        0.9442 |        0.9338 |      0.212126\n",
      " 1000 |      0.007772 |        0.9451 |        0.9348 |      0.208918\n"
     ]
    }
   ],
   "source": [
    "x_data = [\n",
    "    [1., 0., 3., 0., 5.],\n",
    "    [0., 2., 0., 4., 0.]\n",
    "]\n",
    "y_data  = [1, 2, 3, 4, 5]\n",
    "\n",
    "W = tf.Variable(tf.random.uniform((1, 2), -1.0, 1.0))\n",
    "b = tf.Variable(tf.random.uniform((1,), -1.0, 1.0))\n",
    "\n",
    "learning_rate = tf.Variable(0.001)\n",
    "\n",
    "print(\"     i, cost.numpy(), W.numpy()[0][0], W.numpy()[0][1], b.numpy()[0]\\n\")\n",
    "for i in range(1000+1):\n",
    "    with tf.GradientTape() as tape:\n",
    "        hypothesis = tf.matmul(W, x_data) + b       # (1, 2) * (2, 5) = (1, 5)\n",
    "        cost = tf.reduce_mean(tf.square(hypothesis - y_data))\n",
    "\n",
    "        W_grad, b_grad = tape.gradient(cost, [W, b])\n",
    "        W.assign_sub(learning_rate * W_grad)\n",
    "        b.assign_sub(learning_rate * b_grad)\n",
    "    \n",
    "    if i % 50 == 0:\n",
    "        print(\"{:5} | {:13.6f} | {:13.4f} | {:13.4f} | {:13.6f}\".format(\n",
    "            i, cost.numpy(), W.numpy()[0][0], W.numpy()[0][1], b.numpy()[0]))"
   ]
  },
  {
   "cell_type": "markdown",
   "metadata": {},
   "source": [
    "### Hypothesis without b\n",
    "- b 삭제하는 대신 변수 2개이지만 열(column) 추가"
   ]
  },
  {
   "cell_type": "code",
   "execution_count": 19,
   "metadata": {},
   "outputs": [
    {
     "name": "stdout",
     "output_type": "stream",
     "text": [
      "     i, cost.numpy(), W.numpy()[0][0], W.numpy()[0][1], b.numpy()[0]\n",
      "\n",
      "    0 |      8.116693 |       -0.7343 |        0.2426 |        0.6033\n",
      "   50 |      1.963493 |       -0.5459 |        0.7065 |        0.7966\n",
      "  100 |      0.516823 |       -0.4479 |        0.9183 |        0.9124\n",
      "  150 |      0.158433 |       -0.3948 |        1.0138 |        0.9828\n",
      "  200 |      0.062294 |       -0.3644 |        1.0558 |        1.0260\n",
      "  250 |      0.033582 |       -0.3456 |        1.0736 |        1.0525\n",
      "  300 |      0.023830 |       -0.3330 |        1.0804 |        1.0687\n",
      "  350 |      0.019996 |       -0.3237 |        1.0823 |        1.0785\n",
      "  400 |      0.018208 |       -0.3163 |        1.0822 |        1.0843\n",
      "  450 |      0.017188 |       -0.3101 |        1.0813 |        1.0875\n",
      "  500 |      0.016479 |       -0.3045 |        1.0801 |        1.0890\n",
      "  550 |      0.015905 |       -0.2993 |        1.0788 |        1.0895\n",
      "  600 |      0.015393 |       -0.2944 |        1.0775 |        1.0893\n",
      "  650 |      0.014917 |       -0.2898 |        1.0763 |        1.0888\n",
      "  700 |      0.014463 |       -0.2852 |        1.0751 |        1.0879\n",
      "  750 |      0.014026 |       -0.2808 |        1.0739 |        1.0869\n",
      "  800 |      0.013603 |       -0.2765 |        1.0727 |        1.0858\n",
      "  850 |      0.013194 |       -0.2723 |        1.0716 |        1.0846\n",
      "  900 |      0.012797 |       -0.2681 |        1.0705 |        1.0834\n",
      "  950 |      0.012412 |       -0.2641 |        1.0694 |        1.0822\n",
      " 1000 |      0.012039 |       -0.2601 |        1.0684 |        1.0810\n"
     ]
    }
   ],
   "source": [
    "x_data = [\n",
    "    [1., 1., 1., 1., 1.], # bias(b)\n",
    "    [1., 0., 3., 0., 5.], \n",
    "    [0., 2., 0., 4., 0.]\n",
    "]\n",
    "y_data  = [1, 2, 3, 4, 5]\n",
    "\n",
    "W = tf.Variable(tf.random.uniform((1, 3), -1.0, 1.0)) # [1, 3]으로 변경하고, b 삭제\n",
    "\n",
    "learning_rate = 0.001\n",
    "optimizer = tf.keras.optimizers.SGD(learning_rate)\n",
    "\n",
    "print(\"     i, cost.numpy(), W.numpy()[0][0], W.numpy()[0][1], b.numpy()[0]\\n\")\n",
    "for i in range(1000+1):\n",
    "    with tf.GradientTape() as tape:\n",
    "        hypothesis = tf.matmul(W, x_data) # b가 없다\n",
    "        cost = tf.reduce_mean(tf.square(hypothesis - y_data))\n",
    "\n",
    "    grads = tape.gradient(cost, [W])\n",
    "    optimizer.apply_gradients(grads_and_vars=zip(grads,[W]))\n",
    "    if i % 50 == 0:\n",
    "        print(\"{:5} | {:13.6f} | {:13.4f} | {:13.4f} | {:13.4f}\".format(\n",
    "            i, cost.numpy(), W.numpy()[0][0], W.numpy()[0][1], W.numpy()[0][2]))"
   ]
  },
  {
   "cell_type": "markdown",
   "metadata": {},
   "source": [
    "## Custom Gradient\n",
    "* tf.train.GradientDescentOptimizer(): optimizer\n",
    "* optimizer.apply_gradients(): update"
   ]
  },
  {
   "cell_type": "code",
   "execution_count": 23,
   "metadata": {},
   "outputs": [
    {
     "name": "stdout",
     "output_type": "stream",
     "text": [
      "epoch | cost\n",
      "    0 |   3.360607\n",
      "   50 |   0.018925\n",
      "  100 |   0.012939\n",
      "  150 |   0.008847\n",
      "  200 |   0.006049\n",
      "  250 |   0.004135\n",
      "  300 |   0.002827\n",
      "  350 |   0.001933\n",
      "  400 |   0.001322\n",
      "  450 |   0.000904\n",
      "  500 |   0.000618\n",
      "  550 |   0.000422\n",
      "  600 |   0.000289\n",
      "  650 |   0.000197\n",
      "  700 |   0.000135\n",
      "  750 |   0.000092\n",
      "  800 |   0.000063\n",
      "  850 |   0.000043\n",
      "  900 |   0.000030\n",
      "  950 |   0.000020\n",
      " 1000 |   0.000014\n"
     ]
    }
   ],
   "source": [
    "# Multi-variable linear regression (1)\n",
    "\n",
    "X = tf.constant([[1., 2.], \n",
    "                 [3., 4.]])\n",
    "y = tf.constant([[1.5], [3.5]])\n",
    "\n",
    "W = tf.Variable(tf.random.normal((2, 1)))      # 임의의 값 또는 random으로 부여\n",
    "b = tf.Variable(tf.random.normal((1,)))\n",
    "\n",
    "# Create an optimizer\n",
    "optimizer = tf.keras.optimizers.SGD(learning_rate=0.01)\n",
    "\n",
    "n_epoch = 1000+1\n",
    "print(\"epoch | cost\")\n",
    "for i in range(n_epoch):\n",
    "    \n",
    "    # Use tf.GradientTape() to record the gradient of the cost function\n",
    "    with tf.GradientTape() as tape:\n",
    "        y_pred = tf.matmul(X, W) + b\n",
    "        cost = tf.reduce_mean(tf.square(y_pred - y))\n",
    "\n",
    "    # calculates the gradients of the loss\n",
    "    grads = tape.gradient(cost, [W, b])\n",
    "    \n",
    "    # updates parameters (W and b)\n",
    "    optimizer.apply_gradients(grads_and_vars=zip(grads, [W, b]))\n",
    "    if i % 50 == 0:\n",
    "        print(\"{:5} | {:10.6f}\".format(i, cost.numpy()))"
   ]
  },
  {
   "attachments": {
    "image.png": {
     "image/png": "[encoded data removed]"
    }
   },
   "cell_type": "markdown",
   "metadata": {},
   "source": [
    "## 예제) Predicting exam score\n",
    "    - regression using three inputs (x1, x2, x3)\n",
    "![image.png](attachment:image.png)"
   ]
  },
  {
   "cell_type": "code",
   "execution_count": 32,
   "metadata": {},
   "outputs": [],
   "source": [
    "tf.random.set_seed(0)"
   ]
  },
  {
   "cell_type": "markdown",
   "metadata": {},
   "source": [
    "##### 변수\n",
    "x1 = [ 73.,  93.,  89.,  96.,  73.]\n",
    "\n",
    "x2 = [ 80.,  88.,  91.,  98.,  66.]\n",
    "\n",
    "x3 = [ 75.,  93.,  90., 100.,  70.]\n",
    "\n",
    "Y  = [152., 185., 180., 196., 142.]\n",
    "\n",
    "##### weights\n",
    "w1 = tf.Variable(10.)\n",
    "\n",
    "w2 = tf.Variable(10.)\n",
    "\n",
    "w3 = tf.Variable(10.)\n",
    "\n",
    "b  = tf.Variable(10.)\n",
    "\n",
    "##### 가설\n",
    "hypothesis = w1 * x1 +  w2 * x2 + w3 * x3 + b"
   ]
  },
  {
   "cell_type": "code",
   "execution_count": 33,
   "metadata": {},
   "outputs": [
    {
     "name": "stdout",
     "output_type": "stream",
     "text": [
      "    i,      cost\n",
      "\n",
      "    0 | 5793889.5000\n",
      "   50 |   64291.1484\n",
      "  100 |     715.2902\n",
      "  150 |       9.8462\n",
      "  200 |       2.0152\n",
      "  250 |       1.9252\n",
      "  300 |       1.9210\n",
      "  350 |       1.9177\n",
      "  400 |       1.9145\n",
      "  450 |       1.9114\n",
      "  500 |       1.9081\n",
      "  550 |       1.9050\n",
      "  600 |       1.9018\n",
      "  650 |       1.8986\n",
      "  700 |       1.8955\n",
      "  750 |       1.8923\n",
      "  800 |       1.8892\n",
      "  850 |       1.8861\n",
      "  900 |       1.8829\n",
      "  950 |       1.8798\n",
      " 1000 |       1.8767\n"
     ]
    }
   ],
   "source": [
    "# Matrix 사용하지 않고, 각각 w를 부여함 (업데이트 할 때도 각각 정의해야함)\n",
    "\n",
    "# data and label\n",
    "x1 = [ 73.,  93.,  89.,  96.,  73.]\n",
    "x2 = [ 80.,  88.,  91.,  98.,  66.]\n",
    "x3 = [ 75.,  93.,  90., 100.,  70.]\n",
    "Y  = [152., 185., 180., 196., 142.]\n",
    "\n",
    "# weights\n",
    "w1 = tf.Variable(10.)           # w1 = tf.Variable(tf.random.normal((1,))) 와 동일\n",
    "w2 = tf.Variable(10.)\n",
    "w3 = tf.Variable(10.)\n",
    "b  = tf.Variable(10.)\n",
    "\n",
    "learning_rate = 0.000001\n",
    "\n",
    "print(\"    i,      cost\\n\")\n",
    "for i in range(1000+1):\n",
    "    # tf.GradientTape() to record the gradient of the cost function\n",
    "    with tf.GradientTape() as tape:\n",
    "        hypothesis = w1 * x1 +  w2 * x2 + w3 * x3 + b\n",
    "        cost = tf.reduce_mean(tf.square(hypothesis - Y))\n",
    "    # calculates the gradients of the cost\n",
    "    w1_grad, w2_grad, w3_grad, b_grad = tape.gradient(cost, [w1, w2, w3, b])\n",
    "    \n",
    "    # update w1,w2,w3 and b\n",
    "    w1.assign_sub(learning_rate * w1_grad)\n",
    "    w2.assign_sub(learning_rate * w2_grad)\n",
    "    w3.assign_sub(learning_rate * w3_grad)\n",
    "    b.assign_sub(learning_rate * b_grad)\n",
    "\n",
    "    if i % 50 == 0:\n",
    "      print(\"{:5} | {:12.4f}\".format(i, cost.numpy()))"
   ]
  },
  {
   "cell_type": "markdown",
   "metadata": {},
   "source": [
    "## Multi-variable linear regression : Matrix 사용\n",
    "    - numpy 사용하여 matrix로 변수 x와 label y를 묶어줌\n",
    "    - W = tf.Variable 에서도 행렬 (3, 1)로 선언\n",
    "    - 가설 함수의 return값에 matmul 함수"
   ]
  },
  {
   "cell_type": "code",
   "execution_count": 35,
   "metadata": {},
   "outputs": [
    {
     "name": "stdout",
     "output_type": "stream",
     "text": [
      "epoch | cost\n",
      "    0 |  1798.2894\n",
      "  100 |     2.2888\n",
      "  200 |     2.0632\n",
      "  300 |     2.0587\n",
      "  400 |     2.0542\n",
      "  500 |     2.0498\n",
      "  600 |     2.0453\n",
      "  700 |     2.0409\n",
      "  800 |     2.0366\n",
      "  900 |     2.0322\n",
      " 1000 |     2.0279\n",
      " 1100 |     2.0236\n",
      " 1200 |     2.0194\n",
      " 1300 |     2.0151\n",
      " 1400 |     2.0108\n",
      " 1500 |     2.0066\n",
      " 1600 |     2.0024\n",
      " 1700 |     1.9982\n",
      " 1800 |     1.9940\n",
      " 1900 |     1.9899\n",
      " 2000 |     1.9857\n"
     ]
    }
   ],
   "source": [
    "data = np.array([\n",
    "    # X1,   X2,    X3,   y\n",
    "    [ 73.,  80.,  75., 152. ],\n",
    "    [ 93.,  88.,  93., 185. ],\n",
    "    [ 89.,  91.,  90., 180. ],\n",
    "    [ 96.,  98., 100., 196. ],\n",
    "    [ 73.,  66.,  70., 142. ]\n",
    "], dtype=np.float32)\n",
    "\n",
    "# slice data\n",
    "X = data[:, :-1]\n",
    "y = data[:, [-1]]\n",
    "\n",
    "W = tf.Variable(tf.random.normal((3, 1)))\n",
    "b = tf.Variable(tf.random.normal((1,)))\n",
    "\n",
    "learning_rate = 0.000001\n",
    "\n",
    "# hypothesis, prediction function\n",
    "def predict(X):\n",
    "    return tf.matmul(X, W) + b\n",
    "\n",
    "print(\"epoch | cost\")\n",
    "\n",
    "n_epochs = 2000\n",
    "for i in range(n_epochs+1):\n",
    "    # tf.GradientTape() to record the gradient of the cost function\n",
    "    with tf.GradientTape() as tape:\n",
    "        cost = tf.reduce_mean((tf.square(predict(X) - y)))\n",
    "\n",
    "    # calculates the gradients of the loss\n",
    "    W_grad, b_grad = tape.gradient(cost, [W, b])\n",
    "\n",
    "    # updates parameters (W and b)\n",
    "    W.assign_sub(learning_rate * W_grad)\n",
    "    b.assign_sub(learning_rate * b_grad)\n",
    "    \n",
    "    if i % 100 == 0:\n",
    "        print(\"{:5} | {:10.4f}\".format(i, cost.numpy()))"
   ]
  },
  {
   "cell_type": "code",
   "execution_count": 41,
   "metadata": {},
   "outputs": [
    {
     "data": {
      "text/plain": [
       "array([[ 1.6652976 ],\n",
       "       [ 0.59528816],\n",
       "       [-0.25148827]], dtype=float32)"
      ]
     },
     "execution_count": 41,
     "metadata": {},
     "output_type": "execute_result"
    }
   ],
   "source": [
    "# weight 값 확인\n",
    "W.numpy()"
   ]
  },
  {
   "cell_type": "code",
   "execution_count": 42,
   "metadata": {},
   "outputs": [
    {
     "data": {
      "text/plain": [
       "array([1.0683131], dtype=float32)"
      ]
     },
     "execution_count": 42,
     "metadata": {},
     "output_type": "execute_result"
    }
   ],
   "source": [
    "b.numpy()"
   ]
  },
  {
   "cell_type": "code",
   "execution_count": 45,
   "metadata": {},
   "outputs": [
    {
     "data": {
      "text/plain": [
       "<tf.Tensor: shape=(5, 1), dtype=float32, numpy=\n",
       "array([[151.39648],\n",
       "       [184.93794],\n",
       "       [180.81708],\n",
       "       [194.1263 ],\n",
       "       [144.31987]], dtype=float32)>"
      ]
     },
     "execution_count": 45,
     "metadata": {},
     "output_type": "execute_result"
    }
   ],
   "source": [
    "# 가설함수 결과 = 실제 값 예측\n",
    "tf.matmul(X, W) + b"
   ]
  },
  {
   "cell_type": "markdown",
   "metadata": {},
   "source": [
    "## Predict"
   ]
  },
  {
   "cell_type": "code",
   "execution_count": 50,
   "metadata": {},
   "outputs": [
    {
     "data": {
      "text/plain": [
       "[152.0, 185.0, 180.0, 196.0, 142.0]"
      ]
     },
     "execution_count": 50,
     "metadata": {},
     "output_type": "execute_result"
    }
   ],
   "source": [
    "# labels, 실제값\n",
    "Y "
   ]
  },
  {
   "cell_type": "code",
   "execution_count": 51,
   "metadata": {},
   "outputs": [
    {
     "data": {
      "text/plain": [
       "array([[151.39648],\n",
       "       [184.93794],\n",
       "       [180.81708],\n",
       "       [194.1263 ],\n",
       "       [144.31987]], dtype=float32)"
      ]
     },
     "execution_count": 51,
     "metadata": {},
     "output_type": "execute_result"
    }
   ],
   "source": [
    "predict(X).numpy() # prediction, 예측값"
   ]
  },
  {
   "cell_type": "code",
   "execution_count": 52,
   "metadata": {},
   "outputs": [
    {
     "data": {
      "text/plain": [
       "array([[182.69525],\n",
       "       [174.3433 ]], dtype=float32)"
      ]
     },
     "execution_count": 52,
     "metadata": {},
     "output_type": "execute_result"
    }
   ],
   "source": [
    "# 새로운 데이터에 대한 예측\n",
    "\n",
    "predict([[ 89.,  95.,  92.],[ 84.,  92.,  85.]]).numpy()"
   ]
  }
 ],
 "metadata": {
  "kernelspec": {
   "display_name": "Python 3",
   "language": "python",
   "name": "python3"
  },
  "language_info": {
   "codemirror_mode": {
    "name": "ipython",
    "version": 3
   },
   "file_extension": ".py",
   "mimetype": "text/x-python",
   "name": "python",
   "nbconvert_exporter": "python",
   "pygments_lexer": "ipython3",
   "version": "3.6.10"
  }
 },
 "nbformat": 4,
 "nbformat_minor": 4
}
