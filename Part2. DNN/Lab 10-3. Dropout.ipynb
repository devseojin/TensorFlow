{
 "cells": [
  {
   "cell_type": "markdown",
   "metadata": {},
   "source": [
    "[코드](https://github.com/deeplearningzerotoall/TensorFlow/blob/master/tf_2.x/lab-10-3-mnist_nn_dropout.ipynb)"
   ]
  }
 ],
 "metadata": {
  "kernelspec": {
   "display_name": "Python 3",
   "language": "python",
   "name": "python3"
  },
  "language_info": {
   "codemirror_mode": {
    "name": "ipython",
    "version": 3
   },
   "file_extension": ".py",
   "mimetype": "text/x-python",
   "name": "python",
   "nbconvert_exporter": "python",
   "pygments_lexer": "ipython3",
   "version": "3.6.10"
  }
 },
 "nbformat": 4,
 "nbformat_minor": 4
}
