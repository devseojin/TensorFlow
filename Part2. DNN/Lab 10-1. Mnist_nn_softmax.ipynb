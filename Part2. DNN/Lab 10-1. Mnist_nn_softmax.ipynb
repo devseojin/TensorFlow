{
 "cells": [
  {
   "cell_type": "markdown",
   "metadata": {},
   "source": [
    "# Mnist_nn_softmax"
   ]
  },
  {
   "cell_type": "markdown",
   "metadata": {},
   "source": [
    "## import"
   ]
  },
  {
   "cell_type": "code",
   "execution_count": 9,
   "metadata": {},
   "outputs": [],
   "source": [
    "import tensorflow as tf\n",
    "import numpy as np\n",
    "from tensorflow.keras.utils import to_categorical\n",
    "from tensorflow.keras.datasets import mnist\n",
    "from time import time\n",
    "import os"
   ]
  },
  {
   "cell_type": "markdown",
   "metadata": {},
   "source": [
    "## Checkpoint function"
   ]
  },
  {
   "cell_type": "code",
   "execution_count": 2,
   "metadata": {},
   "outputs": [],
   "source": [
    "def load(model, checkpoint_dir):\n",
    "    print(\" [*] Reading checkpoints...\")\n",
    "    \n",
    "    ckpt = tf.train.get_checkpoint_state(checkpoint_dir)\n",
    "    if ckpt:\n",
    "        ckpt_name = os.path.basename(ckpt.model_checkpoint_path)\n",
    "        checkpoint = tf.train.Checkpoint(dnn=model)\n",
    "        checkpoint.restore(save_path=os.path.join(checkpoint_dir, ckpt_name))\n",
    "        counter = int(ckpt_name.split('-')[1])\n",
    "        return True, counter\n",
    "    else:\n",
    "        print(\" [*] Failed to find a checkpoint\")\n",
    "        return False, 0\n",
    "    \n",
    "def check_folder(dir):\n",
    "    if not os.path.exists(dir):\n",
    "        os.makedirs(dir)\n",
    "    return dir"
   ]
  },
  {
   "cell_type": "markdown",
   "metadata": {},
   "source": [
    "## Data load & Pre-processing function"
   ]
  },
  {
   "cell_type": "code",
   "execution_count": 3,
   "metadata": {},
   "outputs": [],
   "source": [
    "def load_mnist():\n",
    "    (train_data, train_labels), (test_data, test_labels) = mnist.load_data()\n",
    "    \n",
    "    # input할 때, 기본적으로 4개가 필요한데, Data load만 하면 channel이 '1'이어서 생략이 되므로 \n",
    "    #  4종류의 output을 위해 expand-dims로 추가함 => expand_dims : channel을 한 개 더 만들어주는 역할 (-1:마지막 열에 추가)\n",
    "    train_data = np.expand_dims(train_data, axis=-1)         # [N, 28, 28] -> [N, 28, 28, 1]\n",
    "    test_data = np.expand_dims(test_data, axis=-1)           # [N, 28, 28] -> [N, 28, 28, 1]\n",
    "    \n",
    "    train_data, test_data = normalize(train_data, test_data) # [0 ~ 255] -> [0 ~ 1]    // 나누기 255\n",
    "    \n",
    "    # One hot incoding : ex) 7 -=10개의 배열 중 7번째가'1'인 것\n",
    "    train_labels = to_categorical(train_labels, 10)          # [N,] -> [N, 10]\n",
    "    test_labels = to_categorical(test_labels, 10)            # [N,] -> [N, 10]\n",
    "    \n",
    "    return train_data, train_labels, test_data, test_labels\n",
    "\n",
    "def normalize(train_data, test_data):\n",
    "    train_data = train_data.astype(np.float32) / 255\n",
    "    test_data = test_data.astype(np.float32) / 255\n",
    "    \n",
    "    return train_data, test_data"
   ]
  },
  {
   "cell_type": "markdown",
   "metadata": {},
   "source": [
    "## Performance Function"
   ]
  },
  {
   "cell_type": "code",
   "execution_count": 37,
   "metadata": {},
   "outputs": [],
   "source": [
    "# 모델에 image를 어떤 숫자인지 logits로 확인 (해당 label과 softmax로 구한 logits를 비교하며 loss 구하기)\n",
    "def loss_fn(model, images, labels):\n",
    "    logits = model(images, training=True)\n",
    "    loss = tf.reduce_mean(tf.keras.losses.categorical_crossentropy(y_pred=logits, y_true=labels, from_logits=True))\n",
    "    return loss\n",
    "\n",
    "# Logits와 Label의 shape은 [batch size, label_dim]\n",
    "def accuracy_fn(model, images, labels):\n",
    "    logits = model(images, training=False)\n",
    "    prediction = tf.equal(tf.argmax(logits, -1), tf.argmax(labels, -1))\n",
    "    accuracy = tf.reduce_mean(tf.cast(prediction, tf.float32))     # boolean 값과 숫자값으로 바꿔야 평균 계산이 가능\n",
    "    return accuracy\n",
    "\n",
    "def grad(model, images, labels):\n",
    "    with tf.GradientTape() as tape:\n",
    "        loss = loss_fn(model, images, labels)\n",
    "    return tape.gradient(loss, model.variables)    "
   ]
  },
  {
   "cell_type": "markdown",
   "metadata": {},
   "source": [
    "## Model function"
   ]
  },
  {
   "cell_type": "code",
   "execution_count": 38,
   "metadata": {},
   "outputs": [],
   "source": [
    "# shape을 펼쳐주는 역할\n",
    "def flatten():\n",
    "    return tf.keras.layers.Flatten()\n",
    "\n",
    "# label_dim : output으로 나가는 채널은 몇개?\n",
    "def dense(label_dim, weight_init):\n",
    "    return tf.keras.layers.Dense(units=label_dim, use_bias=True, kernel_initializer=weight_init)\n",
    "\n",
    "def sigmoid():\n",
    "    return tf.keras.layers.Activation(tf.keras.activations.sigmoid)"
   ]
  },
  {
   "cell_type": "markdown",
   "metadata": {},
   "source": [
    "## Create model (class version)"
   ]
  },
  {
   "cell_type": "code",
   "execution_count": 39,
   "metadata": {},
   "outputs": [],
   "source": [
    "# class 타입으로 Network 모델을 짤 때는 tf.keras.Model을 상속받음\n",
    "class create_model(tf.keras.Model):\n",
    "    def __init(self, label_dim):\n",
    "        super(create_model_class, self).__init()\n",
    "        weight_init = tf.keras.initializers.RandomNormal()   # 평균 0, 분산 1인 가우시안 적용\n",
    "        \n",
    "        self.model = tf.keras.Sequential()                   # list의 자료구조 타입 (층층이 쌓여가는 것이 list 축적\n",
    "        self.model.add(flatten())                            # [N, 28, 28, 1] -> [N, 784]\n",
    "        \n",
    "        for i in range(2):\n",
    "            # [N, 784] -> [N, 256] -> [N, 256] 으로 shape 변화\n",
    "            self.model.add(dense(256, weight_init))\n",
    "            self.model.add(sigmoid())\n",
    "            \n",
    "        self.model.add(dense(label_dim, weight_init))\n",
    "   \n",
    "   # 이러한 model을 불렀을 때, 어떤 output을 만들어야 하는가\n",
    "    def call(self, x, training = None, mask = None):\n",
    "        x = self.model(x)\n",
    "        \n",
    "        return x   \n",
    "        "
   ]
  },
  {
   "cell_type": "markdown",
   "metadata": {},
   "source": [
    "## Create model (function version)"
   ]
  },
  {
   "cell_type": "code",
   "execution_count": 40,
   "metadata": {},
   "outputs": [],
   "source": [
    "def create_model_function(label_dim):\n",
    "    weight_init =tf.keras.initializers.RandomNormal()\n",
    "    \n",
    "    model = tf.keras.Sequential()\n",
    "    model.add(flatten())\n",
    "    \n",
    "    for i in range(2):\n",
    "        model.add(dense(256, weight_init))\n",
    "        model.add(sigmoid())\n",
    "        \n",
    "    model.add(dense(label_dim, weight_init))\n",
    "    \n",
    "    return model"
   ]
  },
  {
   "cell_type": "markdown",
   "metadata": {},
   "source": [
    "## Define data & hyper-parameter"
   ]
  },
  {
   "cell_type": "code",
   "execution_count": 41,
   "metadata": {},
   "outputs": [],
   "source": [
    "# dataset\n",
    "train_x, train_y, test_x, test_y=load_mnist()\n",
    "\n",
    "# parameters\n",
    "learning_rate = 0.001\n",
    "batch_size = 128\n",
    "\n",
    "training_epochs = 1\n",
    "training_iterations = len(train_x) // batch_size\n",
    "\n",
    "label_dim = 10\n",
    "\n",
    "train_flag = True\n",
    "\n",
    "\"\"\" Graph Input using Dataset API \"\"\"\n",
    "train_dataset = tf.data.Dataset.from_tensor_slices((train_x, train_y)).\\\n",
    "    shuffle(buffer_size=100000).\\\n",
    "    prefetch(buffer_size=batch_size).\\\n",
    "    batch(batch_size, drop_remainder=True)\n",
    "\n",
    "test_dataset = tf.data.Dataset.from_tensor_slices((test_x, test_y)).\\\n",
    "    shuffle(buffer_size=100000).\\\n",
    "    prefetch(buffer_size=len(test_x)).\\\n",
    "    batch(len(test_x))"
   ]
  },
  {
   "cell_type": "markdown",
   "metadata": {},
   "source": [
    "# Define model & Optimizer & writer"
   ]
  },
  {
   "cell_type": "code",
   "execution_count": 42,
   "metadata": {},
   "outputs": [],
   "source": [
    "# Model\n",
    "network = create_model_function(label_dim)\n",
    "\n",
    "# Training\n",
    "optimizer = tf.keras.optimizers.Adam(learning_rate = learning_rate)\n",
    "\n",
    "# Writer\n",
    "checkpoint_dir = 'checkpoints'\n",
    "logs_dir= 'logs'\n",
    "\n",
    "model_dir = 'nn_softmax'\n",
    "\n",
    "checkpoint_dir = os.path.join(checkpoint_dir, model_dir)\n",
    "check_folder(checkpoint_dir)\n",
    "checkpoint_prefix = os.path.join(checkpoint_dir, model_dir)\n",
    "logs_dir = os.path.join(logs_dir, model_dir)"
   ]
  },
  {
   "cell_type": "markdown",
   "metadata": {},
   "source": [
    "## Restore checkpoint & start train or test phase"
   ]
  },
  {
   "cell_type": "code",
   "execution_count": null,
   "metadata": {},
   "outputs": [
    {
     "name": "stdout",
     "output_type": "stream",
     "text": [
      " [*] Reading checkpoints...\n",
      " [*] Failed to find a checkpoint\n",
      " [!] Load failed...\n",
      "Epoch: [ 0] [    0/  468] time: 1.3412, train_loss: 2.27224231, train_accuracy: 0.2969, test_Accuracy: 0.2458\n",
      "Epoch: [ 0] [    1/  468] time: 1.9411, train_loss: 2.28239822, train_accuracy: 0.2422, test_Accuracy: 0.2050\n",
      "Epoch: [ 0] [    2/  468] time: 2.2813, train_loss: 2.27772832, train_accuracy: 0.2031, test_Accuracy: 0.1992\n",
      "Epoch: [ 0] [    3/  468] time: 2.6652, train_loss: 2.23038435, train_accuracy: 0.2031, test_Accuracy: 0.1999\n",
      "Epoch: [ 0] [    4/  468] time: 3.0471, train_loss: 2.24921131, train_accuracy: 0.2578, test_Accuracy: 0.2259\n",
      "Epoch: [ 0] [    5/  468] time: 3.4380, train_loss: 2.22847080, train_accuracy: 0.2891, test_Accuracy: 0.2726\n",
      "Epoch: [ 0] [    6/  468] time: 3.8395, train_loss: 2.21989512, train_accuracy: 0.2344, test_Accuracy: 0.2209\n",
      "Epoch: [ 0] [    7/  468] time: 4.2033, train_loss: 2.19239473, train_accuracy: 0.2188, test_Accuracy: 0.2083\n",
      "Epoch: [ 0] [    8/  468] time: 4.5926, train_loss: 2.18063378, train_accuracy: 0.2422, test_Accuracy: 0.2239\n",
      "Epoch: [ 0] [    9/  468] time: 5.0070, train_loss: 2.13715935, train_accuracy: 0.3125, test_Accuracy: 0.2784\n",
      "Epoch: [ 0] [   10/  468] time: 5.4904, train_loss: 2.14980435, train_accuracy: 0.2734, test_Accuracy: 0.2824\n",
      "Epoch: [ 0] [   11/  468] time: 5.8606, train_loss: 2.12644625, train_accuracy: 0.3594, test_Accuracy: 0.3072\n",
      "Epoch: [ 0] [   12/  468] time: 6.2327, train_loss: 2.14229369, train_accuracy: 0.3281, test_Accuracy: 0.3363\n",
      "Epoch: [ 0] [   13/  468] time: 6.5863, train_loss: 2.10724115, train_accuracy: 0.5000, test_Accuracy: 0.3965\n",
      "Epoch: [ 0] [   14/  468] time: 6.9651, train_loss: 2.14861822, train_accuracy: 0.4219, test_Accuracy: 0.4617\n",
      "Epoch: [ 0] [   15/  468] time: 7.3576, train_loss: 2.04624462, train_accuracy: 0.5469, test_Accuracy: 0.4519\n",
      "Epoch: [ 0] [   16/  468] time: 7.7509, train_loss: 2.04675055, train_accuracy: 0.4297, test_Accuracy: 0.4352\n",
      "Epoch: [ 0] [   17/  468] time: 8.1343, train_loss: 2.01365972, train_accuracy: 0.5234, test_Accuracy: 0.4445\n",
      "Epoch: [ 0] [   18/  468] time: 8.6191, train_loss: 1.99835718, train_accuracy: 0.5000, test_Accuracy: 0.4808\n",
      "Epoch: [ 0] [   19/  468] time: 8.9916, train_loss: 2.00411439, train_accuracy: 0.5703, test_Accuracy: 0.5340\n",
      "Epoch: [ 0] [   20/  468] time: 9.3584, train_loss: 1.99425387, train_accuracy: 0.4688, test_Accuracy: 0.5244\n",
      "Epoch: [ 0] [   21/  468] time: 9.7529, train_loss: 2.01244879, train_accuracy: 0.4922, test_Accuracy: 0.5250\n",
      "Epoch: [ 0] [   22/  468] time: 10.1384, train_loss: 1.94578934, train_accuracy: 0.5312, test_Accuracy: 0.5367\n",
      "Epoch: [ 0] [   23/  468] time: 10.5070, train_loss: 1.87940621, train_accuracy: 0.6016, test_Accuracy: 0.5553\n",
      "Epoch: [ 0] [   24/  468] time: 10.8800, train_loss: 1.88169694, train_accuracy: 0.6172, test_Accuracy: 0.5601\n",
      "Epoch: [ 0] [   25/  468] time: 11.2575, train_loss: 1.89187682, train_accuracy: 0.5391, test_Accuracy: 0.5757\n",
      "Epoch: [ 0] [   26/  468] time: 11.9092, train_loss: 1.88535738, train_accuracy: 0.5156, test_Accuracy: 0.5601\n",
      "Epoch: [ 0] [   27/  468] time: 12.3392, train_loss: 1.86259198, train_accuracy: 0.5234, test_Accuracy: 0.5489\n",
      "Epoch: [ 0] [   28/  468] time: 12.7706, train_loss: 1.83369827, train_accuracy: 0.5391, test_Accuracy: 0.5513\n",
      "Epoch: [ 0] [   29/  468] time: 13.1729, train_loss: 1.72305822, train_accuracy: 0.6406, test_Accuracy: 0.5474\n",
      "Epoch: [ 0] [   30/  468] time: 13.5502, train_loss: 1.78972876, train_accuracy: 0.5312, test_Accuracy: 0.5569\n",
      "Epoch: [ 0] [   31/  468] time: 13.9365, train_loss: 1.75397766, train_accuracy: 0.5469, test_Accuracy: 0.5673\n",
      "Epoch: [ 0] [   32/  468] time: 14.3466, train_loss: 1.66031837, train_accuracy: 0.6172, test_Accuracy: 0.5745\n",
      "Epoch: [ 0] [   33/  468] time: 14.7287, train_loss: 1.66323149, train_accuracy: 0.6328, test_Accuracy: 0.5833\n",
      "Epoch: [ 0] [   34/  468] time: 15.1276, train_loss: 1.62735379, train_accuracy: 0.5703, test_Accuracy: 0.5942\n",
      "Epoch: [ 0] [   35/  468] time: 15.5846, train_loss: 1.58526814, train_accuracy: 0.6719, test_Accuracy: 0.6061\n",
      "Epoch: [ 0] [   36/  468] time: 15.9911, train_loss: 1.50526047, train_accuracy: 0.7500, test_Accuracy: 0.6180\n",
      "Epoch: [ 0] [   37/  468] time: 16.4664, train_loss: 1.59130061, train_accuracy: 0.5938, test_Accuracy: 0.6421\n",
      "Epoch: [ 0] [   38/  468] time: 16.9930, train_loss: 1.49159741, train_accuracy: 0.6641, test_Accuracy: 0.6503\n",
      "Epoch: [ 0] [   39/  468] time: 17.3857, train_loss: 1.43895650, train_accuracy: 0.6953, test_Accuracy: 0.6573\n",
      "Epoch: [ 0] [   40/  468] time: 17.8010, train_loss: 1.44542122, train_accuracy: 0.6719, test_Accuracy: 0.6597\n",
      "Epoch: [ 0] [   41/  468] time: 19.0491, train_loss: 1.42251694, train_accuracy: 0.7188, test_Accuracy: 0.6535\n",
      "Epoch: [ 0] [   42/  468] time: 19.6654, train_loss: 1.51824999, train_accuracy: 0.6406, test_Accuracy: 0.6453\n",
      "Epoch: [ 0] [   43/  468] time: 20.0671, train_loss: 1.42789972, train_accuracy: 0.6250, test_Accuracy: 0.6432\n",
      "Epoch: [ 0] [   44/  468] time: 20.4912, train_loss: 1.37961459, train_accuracy: 0.6562, test_Accuracy: 0.6412\n",
      "Epoch: [ 0] [   45/  468] time: 20.9793, train_loss: 1.34056604, train_accuracy: 0.6406, test_Accuracy: 0.6444\n",
      "Epoch: [ 0] [   46/  468] time: 21.6745, train_loss: 1.42602694, train_accuracy: 0.6406, test_Accuracy: 0.6639\n",
      "Epoch: [ 0] [   47/  468] time: 22.1515, train_loss: 1.33989406, train_accuracy: 0.6719, test_Accuracy: 0.6928\n",
      "Epoch: [ 0] [   48/  468] time: 23.2359, train_loss: 1.25983596, train_accuracy: 0.7188, test_Accuracy: 0.7179\n",
      "Epoch: [ 0] [   49/  468] time: 23.8032, train_loss: 1.30088031, train_accuracy: 0.7500, test_Accuracy: 0.7421\n",
      "Epoch: [ 0] [   50/  468] time: 24.6074, train_loss: 1.17013836, train_accuracy: 0.8359, test_Accuracy: 0.7556\n",
      "Epoch: [ 0] [   51/  468] time: 25.0893, train_loss: 1.31521201, train_accuracy: 0.6875, test_Accuracy: 0.7663\n",
      "Epoch: [ 0] [   52/  468] time: 25.5773, train_loss: 1.23109746, train_accuracy: 0.7578, test_Accuracy: 0.7687\n",
      "Epoch: [ 0] [   53/  468] time: 26.0230, train_loss: 1.19715846, train_accuracy: 0.7422, test_Accuracy: 0.7723\n",
      "Epoch: [ 0] [   54/  468] time: 26.5110, train_loss: 1.24602056, train_accuracy: 0.6953, test_Accuracy: 0.7707\n",
      "Epoch: [ 0] [   55/  468] time: 26.9081, train_loss: 1.18458498, train_accuracy: 0.7578, test_Accuracy: 0.7671\n",
      "Epoch: [ 0] [   56/  468] time: 27.2876, train_loss: 1.23580849, train_accuracy: 0.6953, test_Accuracy: 0.7649\n",
      "Epoch: [ 0] [   57/  468] time: 27.6803, train_loss: 1.16977024, train_accuracy: 0.7266, test_Accuracy: 0.7622\n",
      "Epoch: [ 0] [   58/  468] time: 28.0744, train_loss: 1.12058496, train_accuracy: 0.7812, test_Accuracy: 0.7533\n",
      "Epoch: [ 0] [   59/  468] time: 28.4823, train_loss: 1.02798247, train_accuracy: 0.7578, test_Accuracy: 0.7467\n",
      "Epoch: [ 0] [   60/  468] time: 28.9290, train_loss: 1.06654859, train_accuracy: 0.7031, test_Accuracy: 0.7365\n",
      "Epoch: [ 0] [   61/  468] time: 29.3678, train_loss: 1.06929898, train_accuracy: 0.6875, test_Accuracy: 0.7324\n",
      "Epoch: [ 0] [   62/  468] time: 30.0722, train_loss: 0.93744546, train_accuracy: 0.7500, test_Accuracy: 0.7317\n",
      "Epoch: [ 0] [   63/  468] time: 30.4776, train_loss: 0.95783138, train_accuracy: 0.7891, test_Accuracy: 0.7329\n",
      "Epoch: [ 0] [   64/  468] time: 30.8972, train_loss: 0.94422406, train_accuracy: 0.7422, test_Accuracy: 0.7310\n",
      "Epoch: [ 0] [   65/  468] time: 31.3184, train_loss: 0.93044102, train_accuracy: 0.7266, test_Accuracy: 0.7279\n",
      "Epoch: [ 0] [   66/  468] time: 31.7245, train_loss: 1.01259851, train_accuracy: 0.7031, test_Accuracy: 0.7277\n",
      "Epoch: [ 0] [   67/  468] time: 32.1389, train_loss: 1.03717709, train_accuracy: 0.7031, test_Accuracy: 0.7354\n",
      "Epoch: [ 0] [   68/  468] time: 32.5510, train_loss: 0.95797753, train_accuracy: 0.7109, test_Accuracy: 0.7529\n",
      "Epoch: [ 0] [   69/  468] time: 33.0033, train_loss: 0.96862781, train_accuracy: 0.8203, test_Accuracy: 0.7684\n",
      "Epoch: [ 0] [   70/  468] time: 33.5765, train_loss: 0.92415166, train_accuracy: 0.8203, test_Accuracy: 0.7825\n",
      "Epoch: [ 0] [   71/  468] time: 34.0040, train_loss: 0.93643486, train_accuracy: 0.7266, test_Accuracy: 0.7918\n",
      "Epoch: [ 0] [   72/  468] time: 34.6252, train_loss: 0.97118169, train_accuracy: 0.7500, test_Accuracy: 0.8000\n",
      "Epoch: [ 0] [   73/  468] time: 35.1674, train_loss: 0.91667759, train_accuracy: 0.7656, test_Accuracy: 0.8001\n"
     ]
    },
    {
     "name": "stdout",
     "output_type": "stream",
     "text": [
      "Epoch: [ 0] [   74/  468] time: 35.6717, train_loss: 0.97761875, train_accuracy: 0.7500, test_Accuracy: 0.8071\n",
      "Epoch: [ 0] [   75/  468] time: 36.1361, train_loss: 0.86542356, train_accuracy: 0.8516, test_Accuracy: 0.8143\n",
      "Epoch: [ 0] [   76/  468] time: 36.7838, train_loss: 0.99626100, train_accuracy: 0.7656, test_Accuracy: 0.8161\n",
      "Epoch: [ 0] [   77/  468] time: 37.2171, train_loss: 0.78286600, train_accuracy: 0.8594, test_Accuracy: 0.8135\n",
      "Epoch: [ 0] [   78/  468] time: 37.5864, train_loss: 0.90307415, train_accuracy: 0.8359, test_Accuracy: 0.8145\n",
      "Epoch: [ 0] [   79/  468] time: 37.9657, train_loss: 0.75771165, train_accuracy: 0.8516, test_Accuracy: 0.8126\n",
      "Epoch: [ 0] [   80/  468] time: 38.7253, train_loss: 0.80108333, train_accuracy: 0.8281, test_Accuracy: 0.8087\n",
      "Epoch: [ 0] [   81/  468] time: 39.1493, train_loss: 0.82294172, train_accuracy: 0.8125, test_Accuracy: 0.8040\n",
      "Epoch: [ 0] [   82/  468] time: 39.5591, train_loss: 0.87961602, train_accuracy: 0.7734, test_Accuracy: 0.7970\n",
      "Epoch: [ 0] [   83/  468] time: 40.1791, train_loss: 0.85442680, train_accuracy: 0.8125, test_Accuracy: 0.7945\n",
      "Epoch: [ 0] [   84/  468] time: 40.6819, train_loss: 0.85548174, train_accuracy: 0.7578, test_Accuracy: 0.7891\n",
      "Epoch: [ 0] [   85/  468] time: 41.2411, train_loss: 0.77278584, train_accuracy: 0.7656, test_Accuracy: 0.7847\n",
      "Epoch: [ 0] [   86/  468] time: 41.7426, train_loss: 0.75427610, train_accuracy: 0.7891, test_Accuracy: 0.7840\n",
      "Epoch: [ 0] [   87/  468] time: 42.3029, train_loss: 0.88397515, train_accuracy: 0.7266, test_Accuracy: 0.7841\n",
      "Epoch: [ 0] [   88/  468] time: 42.8414, train_loss: 0.85025179, train_accuracy: 0.7734, test_Accuracy: 0.7911\n",
      "Epoch: [ 0] [   89/  468] time: 43.3545, train_loss: 0.82040524, train_accuracy: 0.7578, test_Accuracy: 0.8009\n",
      "Epoch: [ 0] [   90/  468] time: 44.2482, train_loss: 0.68300533, train_accuracy: 0.8594, test_Accuracy: 0.8096\n",
      "Epoch: [ 0] [   91/  468] time: 44.9673, train_loss: 0.74709642, train_accuracy: 0.8281, test_Accuracy: 0.8169\n",
      "Epoch: [ 0] [   92/  468] time: 45.5767, train_loss: 0.77896249, train_accuracy: 0.7891, test_Accuracy: 0.8261\n",
      "Epoch: [ 0] [   93/  468] time: 45.9992, train_loss: 0.68003547, train_accuracy: 0.7969, test_Accuracy: 0.8320\n",
      "Epoch: [ 0] [   94/  468] time: 46.5543, train_loss: 0.73050714, train_accuracy: 0.8359, test_Accuracy: 0.8368\n",
      "Epoch: [ 0] [   95/  468] time: 47.4083, train_loss: 0.72673154, train_accuracy: 0.8672, test_Accuracy: 0.8392\n",
      "Epoch: [ 0] [   96/  468] time: 47.9684, train_loss: 0.71769494, train_accuracy: 0.8359, test_Accuracy: 0.8413\n",
      "Epoch: [ 0] [   97/  468] time: 48.4293, train_loss: 0.74911302, train_accuracy: 0.8047, test_Accuracy: 0.8404\n",
      "Epoch: [ 0] [   98/  468] time: 48.9170, train_loss: 0.78411984, train_accuracy: 0.7812, test_Accuracy: 0.8424\n",
      "Epoch: [ 0] [   99/  468] time: 49.5243, train_loss: 0.70727557, train_accuracy: 0.8516, test_Accuracy: 0.8444\n",
      "Epoch: [ 0] [  100/  468] time: 50.0397, train_loss: 0.61602682, train_accuracy: 0.8516, test_Accuracy: 0.8467\n",
      "Epoch: [ 0] [  101/  468] time: 50.5410, train_loss: 0.77000988, train_accuracy: 0.7891, test_Accuracy: 0.8478\n",
      "Epoch: [ 0] [  102/  468] time: 51.4107, train_loss: 0.67463505, train_accuracy: 0.8359, test_Accuracy: 0.8477\n",
      "Epoch: [ 0] [  103/  468] time: 51.9242, train_loss: 0.67274845, train_accuracy: 0.8438, test_Accuracy: 0.8467\n",
      "Epoch: [ 0] [  104/  468] time: 52.4239, train_loss: 0.77608460, train_accuracy: 0.8281, test_Accuracy: 0.8469\n",
      "Epoch: [ 0] [  105/  468] time: 52.8364, train_loss: 0.76184452, train_accuracy: 0.8359, test_Accuracy: 0.8471\n",
      "Epoch: [ 0] [  106/  468] time: 53.2601, train_loss: 0.72328824, train_accuracy: 0.8281, test_Accuracy: 0.8469\n",
      "Epoch: [ 0] [  107/  468] time: 53.6789, train_loss: 0.61556554, train_accuracy: 0.8750, test_Accuracy: 0.8448\n",
      "Epoch: [ 0] [  108/  468] time: 54.1233, train_loss: 0.57751280, train_accuracy: 0.8594, test_Accuracy: 0.8437\n",
      "Epoch: [ 0] [  109/  468] time: 54.5784, train_loss: 0.62103212, train_accuracy: 0.8438, test_Accuracy: 0.8465\n",
      "Epoch: [ 0] [  110/  468] time: 55.0518, train_loss: 0.66060781, train_accuracy: 0.8203, test_Accuracy: 0.8501\n",
      "Epoch: [ 0] [  111/  468] time: 55.5437, train_loss: 0.58274692, train_accuracy: 0.8359, test_Accuracy: 0.8514\n",
      "Epoch: [ 0] [  112/  468] time: 56.0174, train_loss: 0.46979192, train_accuracy: 0.9141, test_Accuracy: 0.8517\n",
      "Epoch: [ 0] [  113/  468] time: 56.4657, train_loss: 0.61500180, train_accuracy: 0.8281, test_Accuracy: 0.8552\n",
      "Epoch: [ 0] [  114/  468] time: 56.9142, train_loss: 0.62948895, train_accuracy: 0.8672, test_Accuracy: 0.8562\n",
      "Epoch: [ 0] [  115/  468] time: 57.3889, train_loss: 0.63205397, train_accuracy: 0.8594, test_Accuracy: 0.8558\n",
      "Epoch: [ 0] [  116/  468] time: 57.8221, train_loss: 0.67487633, train_accuracy: 0.8359, test_Accuracy: 0.8572\n",
      "Epoch: [ 0] [  117/  468] time: 58.2966, train_loss: 0.59156764, train_accuracy: 0.8516, test_Accuracy: 0.8574\n",
      "Epoch: [ 0] [  118/  468] time: 58.7462, train_loss: 0.65104699, train_accuracy: 0.8516, test_Accuracy: 0.8577\n",
      "Epoch: [ 0] [  119/  468] time: 59.1837, train_loss: 0.55261552, train_accuracy: 0.8672, test_Accuracy: 0.8591\n",
      "Epoch: [ 0] [  120/  468] time: 59.6146, train_loss: 0.53085959, train_accuracy: 0.8594, test_Accuracy: 0.8606\n",
      "Epoch: [ 0] [  121/  468] time: 60.0252, train_loss: 0.62845385, train_accuracy: 0.8828, test_Accuracy: 0.8615\n",
      "Epoch: [ 0] [  122/  468] time: 60.5144, train_loss: 0.66179526, train_accuracy: 0.8125, test_Accuracy: 0.8618\n",
      "Epoch: [ 0] [  123/  468] time: 61.0294, train_loss: 0.60183388, train_accuracy: 0.7734, test_Accuracy: 0.8631\n",
      "Epoch: [ 0] [  124/  468] time: 61.5010, train_loss: 0.46825123, train_accuracy: 0.9062, test_Accuracy: 0.8639\n",
      "Epoch: [ 0] [  125/  468] time: 62.2348, train_loss: 0.59545016, train_accuracy: 0.8281, test_Accuracy: 0.8651\n",
      "Epoch: [ 0] [  126/  468] time: 62.8134, train_loss: 0.46774969, train_accuracy: 0.8750, test_Accuracy: 0.8644\n",
      "Epoch: [ 0] [  127/  468] time: 63.3893, train_loss: 0.62151593, train_accuracy: 0.8203, test_Accuracy: 0.8655\n",
      "Epoch: [ 0] [  128/  468] time: 63.8776, train_loss: 0.51600707, train_accuracy: 0.9141, test_Accuracy: 0.8670\n",
      "Epoch: [ 0] [  129/  468] time: 64.4050, train_loss: 0.58923447, train_accuracy: 0.8203, test_Accuracy: 0.8689\n",
      "Epoch: [ 0] [  130/  468] time: 64.8670, train_loss: 0.59463036, train_accuracy: 0.8438, test_Accuracy: 0.8706\n",
      "Epoch: [ 0] [  131/  468] time: 65.2784, train_loss: 0.53640276, train_accuracy: 0.8906, test_Accuracy: 0.8727\n",
      "Epoch: [ 0] [  132/  468] time: 65.8616, train_loss: 0.53705132, train_accuracy: 0.8750, test_Accuracy: 0.8751\n",
      "Epoch: [ 0] [  133/  468] time: 66.2904, train_loss: 0.42738089, train_accuracy: 0.9062, test_Accuracy: 0.8753\n",
      "Epoch: [ 0] [  134/  468] time: 67.0853, train_loss: 0.44886720, train_accuracy: 0.8828, test_Accuracy: 0.8739\n",
      "Epoch: [ 0] [  135/  468] time: 67.5834, train_loss: 0.54062665, train_accuracy: 0.8516, test_Accuracy: 0.8718\n",
      "Epoch: [ 0] [  136/  468] time: 68.0034, train_loss: 0.44174981, train_accuracy: 0.9219, test_Accuracy: 0.8716\n",
      "Epoch: [ 0] [  137/  468] time: 68.4016, train_loss: 0.58619940, train_accuracy: 0.8281, test_Accuracy: 0.8729\n",
      "Epoch: [ 0] [  138/  468] time: 69.1152, train_loss: 0.59973413, train_accuracy: 0.8516, test_Accuracy: 0.8736\n"
     ]
    }
   ],
   "source": [
    "if train_flag:\n",
    "    checkpoint = tf.train.Checkpoint(dnn = network)\n",
    "    \n",
    "    # create writer for tensorboard\n",
    "    summary_writer = tf.summary.create_file_writer(logdir=logs_dir)\n",
    "    start_time = time()\n",
    "    \n",
    "    # restore check-point if it exits\n",
    "    could_load, checkpoint_counter = load(network, checkpoint_dir)\n",
    "    \n",
    "    if could_load:\n",
    "        start_epoch = (int)(checkpoint_counter / training_iterations)\n",
    "        \n",
    "        counter = checkpoint_counter\n",
    "        print(\" [*] Load SUCCESS\")\n",
    "    else:\n",
    "        start_epoch = 0\n",
    "        start_iteration = 0\n",
    "        counter = 0\n",
    "        print(\" [!] Load failed...\")\n",
    "        \n",
    "    # train phase\n",
    "    with summary_writer.as_default():         # for tensorboard\n",
    "        for epoch in range(start_epoch, training_epochs):\n",
    "            for idx, (train_input, train_label) in enumerate(train_dataset):\n",
    "                grads = grad(network, train_input, train_label)\n",
    "                optimizer.apply_gradients(grads_and_vars = zip(grads, network.variables))\n",
    "                train_loss = loss_fn(network, train_input, train_label)\n",
    "                train_accuracy = accuracy_fn(network, train_input, train_label)\n",
    "                \n",
    "                for test_input, test_label in test_dataset:\n",
    "                    \n",
    "                    test_accuracy = accuracy_fn(network, test_input, test_label)\n",
    "                    \n",
    "                    tf.summary.scalar(name='train_loss', data=train_loss, step=counter)\n",
    "                tf.summary.scalar(name='train_accuracy', data=train_accuracy, step=counter)\n",
    "                tf.summary.scalar(name='test_accuracy', data=test_accuracy, step=counter)\n",
    "\n",
    "                print(\n",
    "                    \"Epoch: [%2d] [%5d/%5d] time: %4.4f, train_loss: %.8f, train_accuracy: %.4f, test_Accuracy: %.4f\" \\\n",
    "                    % (epoch, idx, training_iterations, time() - start_time, train_loss, train_accuracy,\n",
    "                       test_accuracy))\n",
    "                counter += 1                \n",
    "        checkpoint.save(file_prefix=checkpoint_prefix + '-{}'.format(counter))\n",
    "        \n",
    "# test phase      \n",
    "else :\n",
    "    _, _ = load(network, checkpoint_dir)\n",
    "    for test_input, test_label in test_dataset:    \n",
    "        test_accuracy = accuracy_fn(network, test_input, test_label)\n",
    "\n",
    "    print(\"test_Accuracy: %.4f\" % (test_accuracy))"
   ]
  },
  {
   "cell_type": "markdown",
   "metadata": {},
   "source": [
    "[코드](https://github.com/deeplearningzerotoall/TensorFlow/blob/master/tf_2.x/lab-10-1-1-mnist_nn_softmax.ipynb)"
   ]
  },
  {
   "cell_type": "code",
   "execution_count": null,
   "metadata": {},
   "outputs": [],
   "source": []
  }
 ],
 "metadata": {
  "kernelspec": {
   "display_name": "Python 3",
   "language": "python",
   "name": "python3"
  },
  "language_info": {
   "codemirror_mode": {
    "name": "ipython",
    "version": 3
   },
   "file_extension": ".py",
   "mimetype": "text/x-python",
   "name": "python",
   "nbconvert_exporter": "python",
   "pygments_lexer": "ipython3",
   "version": "3.6.10"
  }
 },
 "nbformat": 4,
 "nbformat_minor": 4
}
